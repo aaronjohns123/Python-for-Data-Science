{
 "cells": [
  {
   "cell_type": "markdown",
   "id": "b9ffddef-812c-42db-8683-9fb711f26c9d",
   "metadata": {
    "slideshow": {
     "slide_type": "slide"
    },
    "tags": []
   },
   "source": [
    "# Basics of Numpy"
   ]
  },
  {
   "cell_type": "markdown",
   "id": "2c6d6618-4700-4159-9159-494c5810b9ee",
   "metadata": {
    "slideshow": {
     "slide_type": "subslide"
    },
    "tags": []
   },
   "source": [
    "**First we install numpy using pip**"
   ]
  },
  {
   "cell_type": "code",
   "execution_count": null,
   "id": "45f0750e-8cd6-48c5-9cb5-0f7b94a845ef",
   "metadata": {
    "slideshow": {
     "slide_type": "fragment"
    },
    "tags": []
   },
   "outputs": [],
   "source": [
    "!pip3 install numpy"
   ]
  },
  {
   "cell_type": "markdown",
   "id": "99ed70d2-bcb0-4b81-a5dc-958ca14dcef2",
   "metadata": {
    "slideshow": {
     "slide_type": "fragment"
    },
    "tags": []
   },
   "source": [
    "**Always remember to import numpy before using it**"
   ]
  },
  {
   "cell_type": "code",
   "execution_count": null,
   "id": "74127057-5019-43a5-a4bc-92b638e98ff4",
   "metadata": {
    "slideshow": {
     "slide_type": "fragment"
    },
    "tags": []
   },
   "outputs": [],
   "source": [
    "import numpy as np"
   ]
  },
  {
   "cell_type": "markdown",
   "id": "5ab4dd71-5f13-4cf4-b6f5-71e88e6b83e4",
   "metadata": {
    "slideshow": {
     "slide_type": "subslide"
    },
    "tags": []
   },
   "source": [
    "**Now we create a simple 1-dimensional array using numpy**"
   ]
  },
  {
   "cell_type": "code",
   "execution_count": null,
   "id": "3354b6f1-e8c0-4c67-93dc-97b3491ab9fe",
   "metadata": {
    "slideshow": {
     "slide_type": "fragment"
    },
    "tags": []
   },
   "outputs": [],
   "source": [
    "# miles per hour speed limit\n",
    "values = [25,35,45,55,60,80,120] \n",
    "speed_limit = np.array(values)\n",
    "print(speed_limit)"
   ]
  },
  {
   "cell_type": "markdown",
   "id": "e8c7af26-e40a-4ea7-aff7-36686fa925f5",
   "metadata": {
    "slideshow": {
     "slide_type": "fragment"
    },
    "tags": []
   },
   "source": [
    "**Now we can convert an array from one metric unit to another**"
   ]
  },
  {
   "cell_type": "code",
   "execution_count": null,
   "id": "93e558f8-eb30-4389-8c48-6afbe07050ae",
   "metadata": {
    "slideshow": {
     "slide_type": "fragment"
    },
    "tags": []
   },
   "outputs": [],
   "source": [
    "# Convert mph to kph\n",
    "limit_kph = speed_limit*1.609344 \n",
    "print(limit_kph)"
   ]
  },
  {
   "cell_type": "markdown",
   "id": "0ad59ec4-df64-4924-b690-1536e4785dcb",
   "metadata": {
    "slideshow": {
     "slide_type": "slide"
    },
    "tags": []
   },
   "source": [
    "## **arange**\n",
    "\n",
    "**arange(start,stop,step, dtype=None])**\n",
    "\n",
    "arange returns evenly spaced values within a given interval. \n",
    "The values are generated within the half-open interval ‘[start, stop)' If the function is used with integers, it is nearly equivalent to the Python built-in function range, but arange returns an ndarray rather than a list iterator as range does. If the 'start' parameter is not given, it will be set to 0.\n",
    "\n",
    "The end of the interval is determined by the parameter 'stop'. Usually, the interval will not include this value, except in some cases where 'step' is not an integer and floating point round-off affects the length of output ndarray. \n",
    "\n",
    "The spacing between two adjacent values of the output array is set with the optional parameter 'step'. The default value for 'step' is 1. If the parameter 'step' is given, the 'start' parameter cannot be optional, i.e. it has to be given as well. \n",
    "\n",
    "The type of the output array can be specified with the parameter 'dtype'. If it is not given, the type will be automatically inferred from the other input arguments."
   ]
  },
  {
   "cell_type": "code",
   "execution_count": null,
   "id": "26a64008-960e-492c-a394-9e3eb8c0824d",
   "metadata": {
    "slideshow": {
     "slide_type": "subslide"
    },
    "tags": []
   },
   "outputs": [],
   "source": [
    "ten_num = np.arange(10)\n",
    "print(ten_num)"
   ]
  },
  {
   "cell_type": "code",
   "execution_count": null,
   "id": "ca2194c3-0bc6-4e56-a65c-951e02604953",
   "metadata": {
    "slideshow": {
     "slide_type": "fragment"
    },
    "tags": []
   },
   "outputs": [],
   "source": [
    "set_range = np.arange(5,12)\n",
    "print(set_range)"
   ]
  },
  {
   "cell_type": "code",
   "execution_count": null,
   "id": "d0f2e516-9521-4e27-90d1-19055f083ef3",
   "metadata": {
    "slideshow": {
     "slide_type": "fragment"
    },
    "tags": []
   },
   "outputs": [],
   "source": [
    "decimal_range = np.arange(1,25,0.5)\n",
    "print(decimal_range)"
   ]
  },
  {
   "cell_type": "code",
   "execution_count": null,
   "id": "af44fc33-a8b0-4473-8147-2d091a99ff5b",
   "metadata": {},
   "outputs": [],
   "source": [
    "a = np.arange(1, 10)\n",
    "print(a)\n",
    "\n",
    "x = range(1, 10)\n",
    "print(x)    # x is an iterator\n",
    "print(list(x))\n",
    "\n",
    "# further arange examples:\n",
    "x = np.arange(10.4)\n",
    "print(x)\n",
    "x = np.arange(0.5, 10.4, 0.8)\n",
    "print(x)"
   ]
  },
  {
   "cell_type": "markdown",
   "id": "e6472bdb-456f-437e-a7f5-8d65ed4190fc",
   "metadata": {
    "slideshow": {
     "slide_type": "slide"
    },
    "tags": []
   },
   "source": [
    "## Linspace  \n",
    "**linspace(start, stop, num=50, endpoint=True, retstep=False)**  \n",
    "\n",
    "linspace returns an ndarray, consisting of 'num' equally spaced samples in the closed interval [start, stop] or the half-open interval [start, stop). If a closed or a half-open interval will be returned, depends on whether 'endpoint' is True or False. \n",
    "\n",
    "The parameter 'start' defines the start value of the sequence which will be created. \n",
    "\n",
    "'stop' will the end value of the sequence, unless 'endpoint' is set to False. \n",
    "\n",
    "In the latter case, the resulting sequence will consist of all but the last of 'num + 1' evenly spaced samples. This means that 'stop' is excluded. Note that the step size changes when 'endpoint' is False. \n",
    "\n",
    "The number of samples to be generated can be set with 'num', which defaults to 50. \n",
    "\n",
    "If the optional parameter 'endpoint' is set to True (the default), 'stop' will be the last sample of the sequence. Otherwise, it is not included."
   ]
  },
  {
   "cell_type": "code",
   "execution_count": null,
   "id": "5a12fed4-4546-433d-84f8-8cb9f6e587a0",
   "metadata": {
    "slideshow": {
     "slide_type": "subslide"
    },
    "tags": []
   },
   "outputs": [],
   "source": [
    "# 50 values between 1 and 10:\n",
    "print(np.linspace(1, 20))"
   ]
  },
  {
   "cell_type": "code",
   "execution_count": null,
   "id": "84c2452a-a004-43e4-a6d7-b03e15f06883",
   "metadata": {
    "slideshow": {
     "slide_type": "fragment"
    },
    "tags": []
   },
   "outputs": [],
   "source": [
    "# 7 values between 1 and 40:\n",
    "print(np.linspace(1, 40, 7))"
   ]
  },
  {
   "cell_type": "code",
   "execution_count": null,
   "id": "36490383-7fd3-4ac9-b64f-959d982cd8dc",
   "metadata": {
    "slideshow": {
     "slide_type": "fragment"
    },
    "tags": []
   },
   "outputs": [],
   "source": [
    "# excluding the endpoint:\n",
    "print(np.linspace(1, 15, 7, endpoint=False))"
   ]
  },
  {
   "cell_type": "markdown",
   "id": "d26fc7b6-1c34-4561-991d-f615fdf93529",
   "metadata": {
    "slideshow": {
     "slide_type": "slide"
    },
    "tags": []
   },
   "source": [
    "## One Dimensional Array"
   ]
  },
  {
   "cell_type": "code",
   "execution_count": null,
   "id": "c0c5384d-4514-49cc-8fe6-a42aaa24682a",
   "metadata": {
    "slideshow": {
     "slide_type": "fragment"
    },
    "tags": []
   },
   "outputs": [],
   "source": [
    "a = np.array([1, 1, 2, 3, 5, 8, 13, 21])\n",
    "b = np.array([3.4, 6.9, 99.8, 12.8])\n",
    "print(\"A: \", a)\n",
    "print(\"B: \", b)\n",
    "print(\"Type of a: \", a.dtype)\n",
    "print(\"Type of b: \", b.dtype)\n",
    "print(\"Dimension of a: \", np.ndim(a))\n",
    "print(\"Dimension of b: \", np.ndim(b))\n"
   ]
  },
  {
   "cell_type": "markdown",
   "id": "5d0d13b8-6bf4-4304-9e0c-49e62263ee56",
   "metadata": {
    "slideshow": {
     "slide_type": "slide"
    },
    "tags": []
   },
   "source": [
    "## Two Dimensional Array"
   ]
  },
  {
   "cell_type": "code",
   "execution_count": null,
   "id": "e41402c5-70b6-4709-808a-3e9556748d64",
   "metadata": {
    "slideshow": {
     "slide_type": "fragment"
    },
    "tags": []
   },
   "outputs": [],
   "source": [
    "c = np.array([ [3.4, 8.7, 9.9], \n",
    "               [1.1, -7.8, -0.7],\n",
    "               [4.1, 12.3, 4.8]])\n",
    "print(c)\n",
    "print(c.ndim)\n",
    "print(c[1][2])"
   ]
  },
  {
   "cell_type": "markdown",
   "id": "f3e1fc8b-fbb5-4b84-aed3-748c72033ea7",
   "metadata": {
    "slideshow": {
     "slide_type": "fragment"
    },
    "tags": []
   },
   "source": [
    "## Multi Dimensional Array"
   ]
  },
  {
   "cell_type": "code",
   "execution_count": null,
   "id": "50520ca0-c58a-4790-9a9a-96a132ea493e",
   "metadata": {
    "slideshow": {
     "slide_type": "slide"
    },
    "tags": []
   },
   "outputs": [],
   "source": [
    "d = np.array([ [[111, 112], [121, 122]],\n",
    "               [[211, 212], [221, 222]],\n",
    "               [[311, 312], [321, 322]] ])\n",
    "print(d)\n",
    "print(d.ndim)\n",
    "print(d[0][1][1])"
   ]
  },
  {
   "cell_type": "markdown",
   "id": "412c2d9d-a6bb-4290-a544-f8012989a12e",
   "metadata": {
    "slideshow": {
     "slide_type": "slide"
    },
    "tags": []
   },
   "source": [
    "## Matrix Multiplication  \n",
    "\n",
    "### **Row x Column Multiplication**"
   ]
  },
  {
   "cell_type": "markdown",
   "id": "060e04aa-86c6-459f-ad55-ee36a8e32c2f",
   "metadata": {
    "slideshow": {
     "slide_type": "fragment"
    },
    "tags": []
   },
   "source": [
    "![image](images/row_column.png)"
   ]
  },
  {
   "cell_type": "code",
   "execution_count": null,
   "id": "0a6b2ab2-3d16-41ab-a1df-fb99149ad501",
   "metadata": {
    "slideshow": {
     "slide_type": "fragment"
    },
    "tags": []
   },
   "outputs": [],
   "source": [
    "e  = np.array([[2],[3],[4]])\n",
    "f  = np.array([6,4,3])\n",
    "ef = f * e\n",
    "print(ef)"
   ]
  },
  {
   "cell_type": "markdown",
   "id": "48c30db5-d5a4-4e8a-8384-76548f274bf3",
   "metadata": {
    "slideshow": {
     "slide_type": "subslide"
    },
    "tags": []
   },
   "source": [
    "### **Column x Row Multiplication**  \n",
    "\n",
    "![image](images/column_row.png)"
   ]
  },
  {
   "cell_type": "code",
   "execution_count": null,
   "id": "69215760-1623-4640-a95a-f4ce3b704837",
   "metadata": {
    "slideshow": {
     "slide_type": "fragment"
    },
    "tags": []
   },
   "outputs": [],
   "source": [
    "g  = np.array([2,3,4])\n",
    "h  = np.array([[6],[4],[3]])\n",
    "gh = g @ h\n",
    "print(gh)"
   ]
  },
  {
   "cell_type": "markdown",
   "id": "5f8b3c5b-dfed-4647-8c02-f32426666ded",
   "metadata": {
    "slideshow": {
     "slide_type": "slide"
    },
    "tags": []
   },
   "source": [
    "## Indexing\n"
   ]
  },
  {
   "cell_type": "code",
   "execution_count": null,
   "id": "4426f862-988f-44fc-82a7-86bbf0a51c7d",
   "metadata": {
    "slideshow": {
     "slide_type": "fragment"
    },
    "tags": []
   },
   "outputs": [],
   "source": [
    "i = np.array([1, 1, 2, 3, 5, 8, 13, 21])\n",
    "# print the first element of F\n",
    "print(i[0])\n",
    "# print the last element of F\n",
    "print(i[-1])"
   ]
  },
  {
   "cell_type": "code",
   "execution_count": null,
   "id": "09858598-4bca-4b18-8755-769f50134fec",
   "metadata": {
    "slideshow": {
     "slide_type": "fragment"
    },
    "tags": []
   },
   "outputs": [],
   "source": [
    "# Multi Dimensional Indexing\n",
    "j = np.array([ [3.4, 8.7, 9.9], \n",
    "               [1.1, -7.8, -0.7],\n",
    "               [4.1, 12.3, 4.8]])\n",
    "\n",
    "print(j[1][0])"
   ]
  },
  {
   "cell_type": "markdown",
   "id": "237cf792-91d4-4fda-875a-be136bd19dc2",
   "metadata": {
    "slideshow": {
     "slide_type": "fragment"
    },
    "tags": []
   },
   "source": [
    "You have to be aware of the fact, that way of accessing multi-dimensional arrays can be highly inefficient. The reason is that we create an intermediate array A[1] from which we access the element with the index 0. So it behaves similar to this:\n",
    "```\n",
    "tmp = A[1]\n",
    "print(tmp)\n",
    "print(tmp[0])\n",
    "\n",
    "[ 1.1 -7.8 -0.7]\n",
    "1.1\n",
    "```\n",
    "\n",
    "There is another way to access elements of multi-dimensional arrays in Numpy: We use only one pair of square brackets and all the indices are separated by commas:"
   ]
  },
  {
   "cell_type": "code",
   "execution_count": null,
   "id": "5bf7c287-5bbb-456e-87ac-14293b5223ef",
   "metadata": {
    "slideshow": {
     "slide_type": "fragment"
    },
    "tags": []
   },
   "outputs": [],
   "source": [
    "print(j[1, 0])"
   ]
  },
  {
   "cell_type": "markdown",
   "id": "ef6e3849-9d43-4b7e-bb87-46cbe558bb38",
   "metadata": {},
   "source": [
    "## 1D Slicing"
   ]
  },
  {
   "cell_type": "code",
   "execution_count": null,
   "id": "4036fb6e-1524-4050-afc8-3c058244259c",
   "metadata": {},
   "outputs": [],
   "source": [
    "k = np.array([0, 1, 7, 3, 4, 5, 6, 7, 8, 9])\n",
    "print(k[2:5])\n",
    "print(k[:4])\n",
    "print(k[6:])\n",
    "print(k[:])"
   ]
  },
  {
   "cell_type": "markdown",
   "id": "1ff9acad-b3da-41a4-ae60-4a4d11be8ac5",
   "metadata": {},
   "source": [
    "## 2D Slicing"
   ]
  },
  {
   "cell_type": "code",
   "execution_count": null,
   "id": "0965f5f5-3742-4bd2-a23d-f47df286f75f",
   "metadata": {},
   "outputs": [],
   "source": [
    "l = np.array([\n",
    "    [11,12,13,14,15],\n",
    "    [21,22,23,24,25],\n",
    "    [31,32,33,34,35],\n",
    "    [41,42,43,44,45],\n",
    "    [51,52,53,54,55]])"
   ]
  },
  {
   "cell_type": "code",
   "execution_count": null,
   "id": "d1e46740-31be-41d1-b784-ca9a9dbc538d",
   "metadata": {},
   "outputs": [],
   "source": [
    "print(l[:3,2:])"
   ]
  },
  {
   "cell_type": "markdown",
   "id": "572e11f7-96c6-41e1-8baf-512658b4bfa8",
   "metadata": {},
   "source": [
    "![image](images/slice1.png)"
   ]
  },
  {
   "cell_type": "code",
   "execution_count": null,
   "id": "52093413-7381-4bef-87d3-92e00ae0d325",
   "metadata": {},
   "outputs": [],
   "source": [
    "print(l[3:,:])"
   ]
  },
  {
   "cell_type": "markdown",
   "id": "1bb6b2ff-356b-41ce-bec4-0903cc55fa91",
   "metadata": {},
   "source": [
    "![image](images/slice2.png)"
   ]
  },
  {
   "cell_type": "code",
   "execution_count": null,
   "id": "241a676a-3219-4c7a-9345-6d1683743495",
   "metadata": {},
   "outputs": [],
   "source": [
    "print(l[:,4:])"
   ]
  },
  {
   "cell_type": "markdown",
   "id": "282336aa-26fe-4669-8b13-cb3aba95b0b2",
   "metadata": {},
   "source": [
    "![image](images/slice3.png)"
   ]
  },
  {
   "cell_type": "markdown",
   "id": "12297e00-4ab7-42ad-bfde-5988e99d4d4d",
   "metadata": {},
   "source": [
    "## Identity Function  \n",
    "\n",
    "In linear algebra, the identity matrix, or unit matrix, of size n is the n × n square matrix with ones on the main diagonal and zeros elsewhere.\n",
    "There are two ways in Numpy to create identity arrays:\n",
    "- identity\n",
    "- eye\n",
    "\n",
    "We can create identity arrays."
   ]
  },
  {
   "cell_type": "code",
   "execution_count": null,
   "id": "d8a24512-b9ef-4506-9dd7-867c23b54db0",
   "metadata": {},
   "outputs": [],
   "source": [
    "np.identity(4)"
   ]
  },
  {
   "cell_type": "markdown",
   "id": "6a04392d-1b61-41cb-ae27-2c3ae40175a2",
   "metadata": {},
   "source": [
    "We can also use the eye function to create an identity matrix  \n",
    "\n",
    "eye(rows,columns,position,dtype=int)"
   ]
  },
  {
   "cell_type": "code",
   "execution_count": null,
   "id": "3bc85a57-fc7a-4248-a975-d9c844418624",
   "metadata": {},
   "outputs": [],
   "source": [
    "np.eye(5,8,k=5)"
   ]
  },
  {
   "cell_type": "markdown",
   "id": "84440739-892c-4936-a24d-868d7b5ad084",
   "metadata": {},
   "source": [
    "## dtype\n",
    "\n",
    "The data type object 'dtype' is an instance of numpy.dtype class. It can be created with numpy.dtype.\n",
    "\n",
    "So far, we have used in our examples of numpy arrays only fundamental numeric data types like 'int' and 'float'. These numpy arrays contained solely homogenous data types. dtype objects are construed by combinations of fundamental data types. With the aid of dtype we are capable to create \"Structured Arrays\", - also known as \"Record Arrays\". The structured arrays provide us with the ability to have different data types per column. It has similarity to the structure of excel or csv documents.\n",
    "\n",
    "We define an int16 data type and call this type i16. (We have to admit, that this is not a nice name, but we use it only here!). The elements of the list 'lst' are turned into i16 types to create the two-dimensional array A."
   ]
  },
  {
   "cell_type": "code",
   "execution_count": null,
   "id": "e4ee57dc-5062-4a63-82f3-cf3fde62fbb2",
   "metadata": {},
   "outputs": [],
   "source": [
    "i16 = np.dtype(np.int16)\n",
    "print(i16)\n",
    "\n",
    "lst = [ [3.4, 8.7, 9.9], \n",
    "        [1.1, -7.8, -0.7],\n",
    "        [4.1, 12.3, 4.8] ]\n",
    "\n",
    "A = np.array(lst, dtype=i16)\n",
    "\n",
    "print(A)\n"
   ]
  },
  {
   "cell_type": "markdown",
   "id": "c1c2e19d-0f2c-49c9-9bc2-8dc3590e50b3",
   "metadata": {},
   "source": [
    "## Structured Arrays  \n",
    "\n",
    "Structured arrays are ndarrays whose datatype is a composition of simpler datatypes organized as a sequence of named fields."
   ]
  },
  {
   "cell_type": "code",
   "execution_count": null,
   "id": "c03a1203-6198-47b2-ac0f-8bc22c8df1c0",
   "metadata": {},
   "outputs": [],
   "source": [
    "x = np.array([('Rex', 9, 81.0), ('Fido', 3, 27.0)],\n",
    "             dtype=[('name', 'U10'), ('age', 'i4'), \n",
    "                    ('weight', 'f4')])\n",
    "x"
   ]
  },
  {
   "cell_type": "markdown",
   "id": "ceee348d-bd6d-4696-ad41-ae93f933ce66",
   "metadata": {},
   "source": [
    "Here x is a one-dimensional array of length two whose datatype is a structure with three fields: A string of length 10 or less named ‘name’, a 32-bit integer named ‘age’, and a 32-bit float named ‘weight’.\n",
    "If you index x at position 1 you get a structure:"
   ]
  },
  {
   "cell_type": "code",
   "execution_count": null,
   "id": "f17e9f57-219b-4ef5-b480-0c07f5e1969a",
   "metadata": {},
   "outputs": [],
   "source": [
    "x[0]"
   ]
  },
  {
   "cell_type": "markdown",
   "id": "4ee892d8-7fbe-4bcb-8efc-97828de2f7e2",
   "metadata": {},
   "source": [
    "You can access and modify individual fields of a structured array by indexing with the field name:"
   ]
  },
  {
   "cell_type": "code",
   "execution_count": null,
   "id": "7aeb7f86-8304-4642-804d-b3313aba8e4f",
   "metadata": {},
   "outputs": [],
   "source": [
    "x['age']"
   ]
  },
  {
   "cell_type": "code",
   "execution_count": null,
   "id": "d24cae29-5580-4480-96d4-4aefbeec5e2a",
   "metadata": {},
   "outputs": [],
   "source": [
    "x['age'] = 5"
   ]
  },
  {
   "cell_type": "code",
   "execution_count": null,
   "id": "0ee6c5b5-3cac-4337-a929-666cdb0a2251",
   "metadata": {},
   "outputs": [],
   "source": [
    "x"
   ]
  },
  {
   "cell_type": "markdown",
   "id": "4d63f39b-d642-4ae0-a714-50ca86db7d68",
   "metadata": {},
   "source": [
    "## Example:- Make a table into a structured array"
   ]
  },
  {
   "cell_type": "code",
   "execution_count": null,
   "id": "31354f51-9d37-4914-8acb-66c9719e27d7",
   "metadata": {},
   "outputs": [],
   "source": [
    "dt = np.dtype([('country', 'S20'), ('density', 'i4'),\n",
    "               ('area', 'i4'), ('population', 'i4')])\n",
    "population_table = np.array([\n",
    "    ('Netherlands', 393, 41526, 16928800),\n",
    "    ('Belgium', 337, 30510, 11007020),\n",
    "    ('United Kingdom', 256, 243610, 62262000),\n",
    "    ('Germany', 233, 357021, 81799600),\n",
    "    ('Liechtenstein', 205, 160, 32842),\n",
    "    ('Italy', 192, 301230, 59715625),\n",
    "    ('Switzerland', 177, 41290, 7301994),\n",
    "    ('Luxembourg', 173, 2586, 512000),\n",
    "    ('France', 111, 547030, 63601002),\n",
    "    ('Austria', 97, 83858, 8169929),\n",
    "    ('Greece', 81, 131940, 11606813),\n",
    "    ('Ireland', 65, 70280, 4581269),\n",
    "    ('Sweden', 20, 449964, 9515744),\n",
    "    ('Finland', 16, 338424, 5410233),\n",
    "    ('Norway', 13, 385252, 5033675)],dtype=dt)\n",
    "print(population_table[:4])"
   ]
  }
 ],
 "metadata": {
  "kernelspec": {
   "display_name": "Python 3 (ipykernel)",
   "language": "python",
   "name": "python3"
  },
  "language_info": {
   "codemirror_mode": {
    "name": "ipython",
    "version": 3
   },
   "file_extension": ".py",
   "mimetype": "text/x-python",
   "name": "python",
   "nbconvert_exporter": "python",
   "pygments_lexer": "ipython3",
   "version": "3.10.12"
  }
 },
 "nbformat": 4,
 "nbformat_minor": 5
}
