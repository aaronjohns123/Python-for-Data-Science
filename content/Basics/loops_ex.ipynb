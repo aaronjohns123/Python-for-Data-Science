{
 "cells": [
  {
   "cell_type": "markdown",
   "metadata": {},
   "source": [
    "# If Else Statement"
   ]
  },
  {
   "cell_type": "code",
   "execution_count": null,
   "metadata": {},
   "outputs": [],
   "source": [
    "num = input('Enter a Number: ')\n",
    "num = int(num)\n",
    "\n",
    "if num <= 0:\n",
    "    print('Invalid Number')\n",
    "elif num % 2 == 0:\n",
    "    print('Even Number')\n",
    "else:\n",
    "    print('Odd Number')\n",
    "\n",
    "print('End of the program')"
   ]
  },
  {
   "cell_type": "markdown",
   "metadata": {},
   "source": [
    "# Match Statements"
   ]
  },
  {
   "cell_type": "code",
   "execution_count": null,
   "metadata": {},
   "outputs": [],
   "source": [
    "colour = input(\"Enter a colour: \")\n",
    "\n",
    "match colour:\n",
    "    case \"red\":\n",
    "        print(\"You chose red\")\n",
    "    case \"green\"|\"Green\":\n",
    "        print(\"You chose green\")\n",
    "    case \"blue\":\n",
    "        print(\"You chose blue\")\n",
    "    case _:\n",
    "        print(\"Colour not available\")"
   ]
  },
  {
   "cell_type": "markdown",
   "metadata": {},
   "source": []
  },
  {
   "cell_type": "markdown",
   "metadata": {},
   "source": [
    "# for Statement and range() function"
   ]
  },
  {
   "cell_type": "code",
   "execution_count": null,
   "metadata": {},
   "outputs": [],
   "source": [
    "name='Christopher'\n",
    "\n",
    "# A string becomes a character array by default\n",
    "for c in name:\n",
    "    print(c)\n",
    "\n",
    "for i in range(7,10):\n",
    "    print(i)"
   ]
  },
  {
   "cell_type": "markdown",
   "metadata": {},
   "source": [
    "# While Loop, break and continue statements"
   ]
  },
  {
   "cell_type": "code",
   "execution_count": null,
   "metadata": {},
   "outputs": [],
   "source": [
    "i = 0\n",
    "while i < 5:\n",
    "    print(i)\n",
    "    i += 1\n",
    "\n",
    "i = 0\n",
    "while True:\n",
    "    i += 1\n",
    "    if i == 10:\n",
    "        break\n",
    "    elif i % 2 == 0:\n",
    "        continue\n",
    "    print(i)"
   ]
  },
  {
   "cell_type": "markdown",
   "metadata": {},
   "source": [
    "# Pass"
   ]
  },
  {
   "cell_type": "code",
   "execution_count": null,
   "metadata": {},
   "outputs": [],
   "source": [
    "i=0\n",
    "\n",
    "while i <= 3:\n",
    "    if i == 2:\n",
    "        pass\n",
    "    print(i)\n",
    "    i += 1"
   ]
  },
  {
   "cell_type": "markdown",
   "metadata": {},
   "source": [
    "# String indexing and slicing"
   ]
  },
  {
   "cell_type": "code",
   "execution_count": null,
   "metadata": {},
   "outputs": [],
   "source": [
    "destination = 'San Francisco'\n",
    "\n",
    "destination[0]"
   ]
  },
  {
   "cell_type": "code",
   "execution_count": null,
   "metadata": {},
   "outputs": [],
   "source": [
    "destination[1]"
   ]
  },
  {
   "cell_type": "code",
   "execution_count": null,
   "metadata": {},
   "outputs": [],
   "source": [
    "destination[-1]"
   ]
  },
  {
   "cell_type": "code",
   "execution_count": null,
   "metadata": {},
   "outputs": [],
   "source": [
    "destination[4:11]"
   ]
  },
  {
   "cell_type": "code",
   "execution_count": null,
   "metadata": {},
   "outputs": [],
   "source": [
    "destination[0:3]"
   ]
  },
  {
   "cell_type": "code",
   "execution_count": null,
   "metadata": {},
   "outputs": [],
   "source": [
    "destination[:8]"
   ]
  },
  {
   "cell_type": "code",
   "execution_count": null,
   "metadata": {},
   "outputs": [],
   "source": [
    "destination[-9:]"
   ]
  },
  {
   "cell_type": "markdown",
   "metadata": {},
   "source": [
    "#### Finding the reverse of a string"
   ]
  },
  {
   "cell_type": "code",
   "execution_count": null,
   "metadata": {},
   "outputs": [],
   "source": [
    "place = \"San Francisco\"\n",
    "\n",
    "# Using for loop without range\n",
    "for p in reversed(place):\n",
    "    print(p,end=\"\")\n",
    "print()\n",
    "\n",
    "# Using for loop with range\n",
    "               # from, till, decrement\n",
    "for p in range(len(place)-1,-1,-1):\n",
    "    print(place[p],end=\"\")\n",
    "print()\n",
    "\n",
    "#Using join\n",
    "print(\"\".join(reversed(place)))\n",
    "\n",
    "# Using slicing\n",
    "print(place[::-1])"
   ]
  },
  {
   "cell_type": "markdown",
   "metadata": {},
   "source": [
    "# Lists"
   ]
  },
  {
   "cell_type": "code",
   "execution_count": null,
   "metadata": {},
   "outputs": [],
   "source": [
    "squares = [1, 4, 9, 16, 25]\n",
    "squares"
   ]
  },
  {
   "cell_type": "code",
   "execution_count": null,
   "metadata": {},
   "outputs": [],
   "source": [
    "print(squares[0])  # indexing returns the item\n",
    "\n",
    "print(squares[-1])\n",
    "\n",
    "print(squares[-3:])  # slicing returns a new list\n",
    "\n",
    "print(squares[:])\n",
    "\n",
    "# Concatenation\n",
    "squares +=  [36, 49, 64, 81, 100]\n",
    "\n",
    "print(squares)\n"
   ]
  },
  {
   "cell_type": "code",
   "execution_count": null,
   "metadata": {},
   "outputs": [],
   "source": [
    "cubes = [1, 8, 27, 65, 125]  # something's wrong here\n",
    "print(4 ** 3)  # the cube of 4 is 64, not 65!\n",
    "\n",
    "cubes[3] = 64  # replace the wrong value\n",
    "cubes"
   ]
  },
  {
   "cell_type": "code",
   "execution_count": null,
   "metadata": {},
   "outputs": [],
   "source": [
    "cubes.append(216)  # add the cube of 6\n",
    "cubes.append(7 ** 3)  # and the cube of 7\n",
    "cubes"
   ]
  },
  {
   "cell_type": "code",
   "execution_count": null,
   "metadata": {},
   "outputs": [],
   "source": [
    "letters = ['a', 'b', 'c', 'd', 'e', 'f', 'g']\n",
    "print(letters)\n",
    "\n",
    "# replace some values\n",
    "letters[2:5] = ['C', 'D', 'E']\n",
    "print(letters)\n",
    "\n",
    "# now remove them\n",
    "letters[2:5] = []\n",
    "print(letters)\n",
    "\n",
    "# clear the list by replacing all the elements with an empty list\n",
    "letters[:] = []\n",
    "print(letters)"
   ]
  },
  {
   "cell_type": "code",
   "execution_count": null,
   "metadata": {},
   "outputs": [],
   "source": [
    "letters = ['a', 'b', 'c', 'd']\n",
    "len(letters)"
   ]
  },
  {
   "cell_type": "code",
   "execution_count": null,
   "metadata": {},
   "outputs": [],
   "source": [
    "a = ['a', 'b', 'c']\n",
    "n = [1, 2, 3]\n",
    "x = [a, n]\n",
    "print(x)\n",
    "\n",
    "print(x[0])\n",
    "print(x[1])\n",
    "\n",
    "print(x[0][1])\n",
    "\n",
    "print(x[1][1])"
   ]
  },
  {
   "cell_type": "markdown",
   "metadata": {},
   "source": [
    "#### List Comprehension"
   ]
  },
  {
   "cell_type": "code",
   "execution_count": null,
   "metadata": {},
   "outputs": [],
   "source": [
    "squ = [1, 8, 27, 65, 125]\n",
    "squ1 = []\n",
    "\n",
    "# Using a traditional for loop\n",
    "for s in squ:\n",
    "    squ1.append(s**2)\n",
    "\n",
    "print(squ1)\n",
    "\n",
    "# Squaring an array of elements using list comprehension\n",
    "squ2 =[s**2 for s in squ]\n",
    "\n",
    "print(squ2)"
   ]
  },
  {
   "cell_type": "markdown",
   "metadata": {},
   "source": [
    "# Tuples"
   ]
  },
  {
   "cell_type": "code",
   "execution_count": null,
   "metadata": {},
   "outputs": [],
   "source": [
    "flowers=('orchids', 'roses', 'lilacs')\n",
    "\n",
    "print(flowers[0])\n",
    "\n",
    "print('size of the array is :', len(flowers))\n",
    "\n",
    "for fl in flowers:\n",
    "    print(fl)\n",
    "\n",
    "if 'roses' in flowers:\n",
    "    print('The flower exists')\n",
    "else:\n",
    "    print('The flower doesn\\'t exists')\n",
    "\n",
    "# deletes the array\n",
    "del flowers"
   ]
  },
  {
   "cell_type": "markdown",
   "metadata": {},
   "source": [
    "# Set"
   ]
  },
  {
   "cell_type": "code",
   "execution_count": null,
   "metadata": {},
   "outputs": [],
   "source": [
    "a = {'red', 'yellow', 'blue'}\n",
    "b = {'red', 'orange', 'green'}\n",
    "\n",
    "# Add an item to a set, using the add() method:\n",
    "b.add('pink')\n",
    "\n",
    "# Add multiple items to a set, using the update() \n",
    "# method\n",
    "a.update({'white', 'pink'})\n",
    "\n",
    "# Sets are unordered. The items have no index.\n",
    "for colour in a:\n",
    "    print(colour)\n",
    "\n",
    "# A random element is removed from set A\n",
    "a.pop()\n",
    "\n",
    "\n",
    "# A specific element is removed from set B\n",
    "b.remove('orange')\n",
    "\n",
    "\n",
    "# In order to make a subset, we perform an \n",
    "# intersection update\n",
    "a.intersection_update(b)\n",
    "print(a)\n",
    "print(a.issubset(b))"
   ]
  },
  {
   "cell_type": "markdown",
   "metadata": {},
   "source": [
    "# Dictionary"
   ]
  },
  {
   "cell_type": "code",
   "execution_count": null,
   "metadata": {},
   "outputs": [],
   "source": [
    "bike = {'brand': 'norton',\n",
    "             'model': 'Dominator',\n",
    "             'year': 1961\n",
    "            }\n",
    "\n",
    "#This loop prints the key and value\n",
    "for b in bike:\n",
    "    print(b, \" \", bike[b])\n",
    "\n",
    "#We use a key to access the model name\n",
    "print(bike['model'])\n",
    "\n",
    "#removes the key and value from the dictionary\n",
    "bike.pop('year')\n",
    "\n",
    "print(bike)"
   ]
  },
  {
   "cell_type": "markdown",
   "metadata": {},
   "source": [
    "# Functions"
   ]
  },
  {
   "cell_type": "code",
   "execution_count": null,
   "metadata": {},
   "outputs": [],
   "source": [
    "def add(a, b):\n",
    "    return a + b\n",
    "\n",
    "\n",
    "def factorial(a):\n",
    "    if a == 1:\n",
    "        return 1\n",
    "    else:\n",
    "        return a * factorial(a - 1)\n",
    "\n",
    "\n",
    "addition = add(2, 5)\n",
    "print(addition)\n",
    "fact = factorial(7)\n",
    "print(fact)"
   ]
  },
  {
   "cell_type": "code",
   "execution_count": null,
   "metadata": {},
   "outputs": [],
   "source": [
    "# You can define default argument values\n",
    "def food(order=\"Cheese burger\"):\n",
    "    print(\"You ordered a \",order)\n",
    "\n",
    "# this function takes in a tuple of arguments \n",
    "def items(*items):\n",
    "    for i in items:\n",
    "        print(i)\n",
    "\n",
    "# this function takes in a dictionary of arguments\n",
    "def options(**op):\n",
    "    for o in op:\n",
    "        print(o,\" : \",op[o])\n",
    "\n",
    "\n",
    "food()\n",
    "\n",
    "food(\"Hamburger\")\n",
    "\n",
    "items(\"bread\",\"milk\",\"eggs\")\n",
    "\n",
    "options(variant=\"deluxe\",color=\"blue\")"
   ]
  }
 ],
 "metadata": {
  "kernelspec": {
   "display_name": "Python 3",
   "language": "python",
   "name": "python3"
  },
  "language_info": {
   "codemirror_mode": {
    "name": "ipython",
    "version": 3
   },
   "file_extension": ".py",
   "mimetype": "text/x-python",
   "name": "python",
   "nbconvert_exporter": "python",
   "pygments_lexer": "ipython3",
   "version": "3.10.6"
  },
  "orig_nbformat": 4
 },
 "nbformat": 4,
 "nbformat_minor": 2
}
